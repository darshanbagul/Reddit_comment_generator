{
 "cells": [
  {
   "cell_type": "code",
   "execution_count": 1,
   "metadata": {
    "collapsed": false
   },
   "outputs": [],
   "source": [
    "import numpy as np\n",
    "import theano as theano\n",
    "import theano.tensor as T\n",
    "import time\n",
    "import operator\n",
    "from utils import load_data, load_model_parameters_theano, generate_sentences, train_with_sgd\n",
    "from gru_theano import *\n",
    "import sys"
   ]
  },
  {
   "cell_type": "code",
   "execution_count": 2,
   "metadata": {
    "collapsed": false
   },
   "outputs": [
    {
     "name": "stdout",
     "output_type": "stream",
     "text": [
      "Reading CSV file...\n",
      "Parsed 502183 sentences.\n",
      "Found 193212 unique words tokens.\n",
      "Using vocabulary size 8000.\n",
      "The least frequent word in our vocabulary is 'playlist' and appeared 52 times.\n"
     ]
    }
   ],
   "source": [
    "# Load data (this may take a few minutes)\n",
    "VOCABULARY_SIZE = 8000\n",
    "X_train, y_train, word_to_index, index_to_word = load_data(\"data/reddit-comments-2015.csv\", VOCABULARY_SIZE)"
   ]
  },
  {
   "cell_type": "code",
   "execution_count": 3,
   "metadata": {
    "collapsed": false
   },
   "outputs": [
    {
     "name": "stdout",
     "output_type": "stream",
     "text": [
      "Building model model from ./data/pretrained.npz with hidden_dim=128 word_dim=8000\n"
     ]
    },
    {
     "name": "stderr",
     "output_type": "stream",
     "text": [
      "gru_theano.py:112: UserWarning: The Param class is deprecated. Replace Param(default=N) by theano.In(value=N)\n",
      "  [x, y, learning_rate, theano.Param(decay, default=0.9)],\n"
     ]
    }
   ],
   "source": [
    "# Load parameters of pre-trained model\n",
    "model = load_model_parameters_theano('./data/pretrained.npz')"
   ]
  },
  {
   "cell_type": "code",
   "execution_count": null,
   "metadata": {
    "collapsed": false
   },
   "outputs": [],
   "source": [
    "# Build your own model (not recommended unless you have a lot of time!)\n",
    "\n",
    "LEARNING_RATE = 1e-3\n",
    "NEPOCH = 20\n",
    "HIDDEN_DIM = 128\n",
    "\n",
    "model = GRUTheano(VOCABULARY_SIZE, HIDDEN_DIM)\n",
    "\n",
    "t1 = time.time()\n",
    "model.sgd_step(X_train[0], y_train[0], LEARNING_RATE)\n",
    "t2 = time.time()\n",
    "print \"SGD Step time: ~%f milliseconds\" % ((t2 - t1) * 1000.)\n",
    "\n",
    "train_with_sgd(model, X_train, y_train, LEARNING_RATE, NEPOCH, decay=0.9)"
   ]
  },
  {
   "cell_type": "code",
   "execution_count": 6,
   "metadata": {
    "collapsed": false
   },
   "outputs": [
    {
     "name": "stdout",
     "output_type": "stream",
     "text": [
      "it is bad i hate the never etc.. my friend .\n",
      "bothered me and they were so good .\n",
      "he refused in hacer the amount of risk continues .\n",
      "for this , your understanding is defined separately .\n",
      "i just want to raise animals in the matter , though algorithm have shown .\n",
      "thank you !\n",
      "although i think the least quick asap log out comfortable in my — .\n",
      "anxiety or belongs in of the lifting jam .\n",
      "cdr not on amazon ... about defence advantage .\n",
      "i horizon it : ) thats suggested .\n",
      "damn my god .\n",
      "i feel like anyone getting a defense is too bad .\n",
      "( nsa afk ) you would have gotten more for lifts .\n",
      "ah no one is wrong which 's ... . well , eu or rope .\n",
      "podcast quitting this sense !\n",
      "`` you wonder why there is some people ?\n",
      "process 10 , dragons , anyway !\n",
      "i 'm not really biased and love all you 'd assume though .\n",
      "i hate the definition , but not absolutely the believing they loved and went .\n",
      "( its ?\n",
      "this ditch of a 1v1 work was density activity\n",
      "it density creative , islam difference ben christian network for the price .\n",
      "and we go convince scum .\n",
      "magazine would be well eating on this situation .\n",
      "practical videos want to do 5 of my he’s for a danny .\n",
      "i almost use similar resource would do at least moderation .\n",
      "he 's nice to love .\n",
      "this cleaning test audio , but in the shallow bay of the day .\n",
      "in the eyes protecting the because of coaches 's brought .\n",
      "pokemon i 've got feels like а with games in dial in games .\n",
      "hello 's documentary we here to finish it up !\n",
      "you are too !\n",
      "i thought that blah convenient opinions really .\n",
      "she 's roster theory of it occur , and decides to magical guy .\n",
      "needless to say i do n't think that we grades .\n",
      "can of mild ukraine can be caught .\n",
      "but no .\n",
      "i do n't bet i am any other just your degree either\n",
      "dirt toward it 's weight .\n",
      "if the game `` raises '' has the gaps er /s\n",
      "thank you !\n",
      "nightmare differences stars get here .\n",
      "thank you !\n",
      "dry hair does n't mean we have at installation .\n",
      "maybe will go haha just on punched their masses ?\n",
      "thou harm hardly corporations .\n",
      "submissions must have woods co-op etc a lot of demonstrated found for me . ''\n",
      "& gt ; but cost me test is recommended url number of interviews .\n",
      "maybe this is ti the best king you grounds i could have since .\n",
      "sorry , just destroyed my gain than the tax ?\n",
      "would be like butt them .\n",
      "i 'd say software ^ are not about consent .\n",
      "well , get one for me .\n",
      "are all likely teens decades ?\n",
      "same is when she uses eggs , maybe one animated , he treated there .\n",
      "shall you take my job ?\n",
      "i am criticizing that involves not cut out people dense in these regularly leave .\n",
      "i doubt you can play each other mall .\n",
      "( yes i do . )\n",
      "i was pretty magic ) .\n",
      "1 though .\n",
      "again , you can attacks their intro i california .\n",
      "self negative end up asked .\n",
      "yeah , robin is the best ones .\n",
      "they can terrain dogs with rain or hanging around the time , no wages .\n",
      "still be a need to like the av .\n",
      "leveling money from evidence by this sandwich at least for film network .\n",
      "tactics problems ?\n",
      "but whilst i loved they .\n",
      "you are just riding to /r/advice or concerns .\n",
      "also my ** or spanish used are not challenges customers .\n",
      "that 's great .\n",
      "heavily routes is an pretend to the point .\n",
      "sorry unexpected though , i hopes go figure .\n",
      "our drones are placed in that definition .\n",
      "i do n't use it well to balancing both of those things .\n",
      "they are insane .\n",
      "i mean , on something i doubt to agree .\n",
      ": ( this is the difference between this news .\n",
      "i explained how to stop does releases the events of the game .\n",
      "getting something they grandma about is when they 're settings to you .\n",
      "then it should be 1v1 to exit team and pad .\n",
      "& gt ; this is bullshit or not those tops do get something arcade .\n",
      "i think experienced should be treated .\n",
      "well , there was a deny this song was employers in the chinese activity .\n",
      "also a great ride .\n",
      "so i 1000 again .\n",
      "it would be a beast when he started working .\n",
      "elderly rumble ?\n",
      "and difference between the timing of the second thing .\n",
      "what a mistake you are , what grand circumstances exactly do you mean ?\n",
      "private graphics is just democratic who bring an animal to something new .\n",
      "i benefits it’s going to stay .\n",
      "he had been really useful .\n",
      "i 'd fastest not moderation .\n",
      "it hit 'em with tutorials , but you should be bryan and bullshit .\n",
      "there 's a hockey hero that is in par .\n",
      "thanks in hiking to law here , pickup chance .\n",
      "i feel like a good binary thing 'd be useless .\n",
      "also the mic .\n"
     ]
    }
   ],
   "source": [
    "generate_sentences(model, 100, index_to_word, word_to_index)"
   ]
  },
  {
   "cell_type": "code",
   "execution_count": null,
   "metadata": {
    "collapsed": true
   },
   "outputs": [],
   "source": []
  }
 ],
 "metadata": {
  "kernelspec": {
   "display_name": "Python 2",
   "language": "python",
   "name": "python2"
  },
  "language_info": {
   "codemirror_mode": {
    "name": "ipython",
    "version": 2
   },
   "file_extension": ".py",
   "mimetype": "text/x-python",
   "name": "python",
   "nbconvert_exporter": "python",
   "pygments_lexer": "ipython2",
   "version": "2.7.12"
  }
 },
 "nbformat": 4,
 "nbformat_minor": 0
}
